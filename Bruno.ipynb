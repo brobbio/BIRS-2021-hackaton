{
 "cells": [
  {
   "cell_type": "code",
   "execution_count": 138,
   "metadata": {},
   "outputs": [
    {
     "name": "stdout",
     "output_type": "stream",
     "text": [
      "/usr/lib/python3/dist-packages/secretstorage/dhcrypto.py:15: CryptographyDeprecationWarning: int_from_bytes is deprecated, use int.from_bytes instead\n",
      "  from cryptography.utils import int_from_bytes\n",
      "/usr/lib/python3/dist-packages/secretstorage/util.py:19: CryptographyDeprecationWarning: int_from_bytes is deprecated, use int.from_bytes instead\n",
      "  from cryptography.utils import int_from_bytes\n",
      "Requirement already satisfied: folium in /home/brobbio/.local/lib/python3.8/site-packages (0.12.1)\n",
      "Requirement already satisfied: branca>=0.3.0 in /home/brobbio/.local/lib/python3.8/site-packages (from folium) (0.4.2)\n",
      "Requirement already satisfied: requests in /usr/lib/python3/dist-packages (from folium) (2.22.0)\n",
      "Requirement already satisfied: jinja2>=2.9 in /home/brobbio/.local/lib/python3.8/site-packages (from folium) (3.0.1)\n",
      "Requirement already satisfied: numpy in /home/brobbio/.local/lib/python3.8/site-packages (from folium) (1.20.3)\n",
      "Requirement already satisfied: MarkupSafe>=2.0 in /home/brobbio/.local/lib/python3.8/site-packages (from jinja2>=2.9->folium) (2.0.1)\n"
     ]
    }
   ],
   "source": [
    "!pip install folium\n",
    "import folium\n",
    "import requests"
   ]
  },
  {
   "cell_type": "markdown",
   "metadata": {},
   "source": [
    "# Loading the data"
   ]
  },
  {
   "cell_type": "code",
   "execution_count": 184,
   "metadata": {},
   "outputs": [],
   "source": [
    "list_provinces = ['nl', 'pe', 'ns', 'nb', 'qc', 'on', 'mb', 'sk', 'ab', 'bc', 'yt', 'nt', 'nu']\n",
    "\n",
    "\n",
    "def download_legislators(province_name = \"bc\", gender = \"M\"):\n",
    "    url = \"https://goverlytics.p.rapidapi.com/division-legislators/ca/\" + province_name + \"?limit=150\"\n",
    "\n",
    "\n",
    "    querystring = {\"gender\":\"M\",\"is_active\":\"true\"}\n",
    "\n",
    "    headers = {\n",
    "        'x-rapidapi-host': \"goverlytics.p.rapidapi.com\",\n",
    "        'x-rapidapi-key': \"212c957c59mshe712ce12fd7352fp18875djsn03a97ed3a159\"\n",
    "        }\n",
    "\n",
    "    response = requests.request(\"GET\", url, headers=headers, params=querystring)\n",
    "    \n",
    "    response_dataframe = pd.DataFrame(response.json()[\"data\"])\n",
    "    \n",
    "    return response_dataframe\n",
    "\n",
    "def download_division_legislations(province_name = \"bc\"):\n",
    "    \n",
    "    url = \"https://goverlytics.p.rapidapi.com/division-legislation/ca/\" + province_name\n",
    "\n",
    "    querystring = {\"include_text\":\"true\",\"include_actions\":\"true\",\"include_votes\":\"true\",\"include_summary\":\"true\"}\n",
    "\n",
    "    headers = {\n",
    "        'x-rapidapi-host': \"goverlytics.p.rapidapi.com\",\n",
    "        'x-rapidapi-key': \"212c957c59mshe712ce12fd7352fp18875djsn03a97ed3a159\"\n",
    "        }\n",
    "\n",
    "    response = requests.request(\"GET\", url, headers=headers, params=querystring)\n",
    "    \n",
    "    response_df = pd.DataFrame(response.json()[\"data\"])\n",
    "    \n",
    "    return response_df\n",
    "\n",
    "def download_federal_legislations():\n",
    "    \n",
    "    url = \"https://goverlytics.p.rapidapi.com/federal-legislation/ca\"\n",
    "\n",
    "    querystring = {\"sponsor_gender\":\"M\",\"include_votes\":\"true\",\"include_actions\":\"true\",\"include_text\":\"true\",\"include_summary\":\"true\"}\n",
    "\n",
    "    headers = {\n",
    "        'x-rapidapi-host': \"goverlytics.p.rapidapi.com\",\n",
    "        'x-rapidapi-key': \"212c957c59mshe712ce12fd7352fp18875djsn03a97ed3a159\"\n",
    "        }\n",
    "\n",
    "    response = requests.request(\"GET\", url, headers=headers, params=querystring)\n",
    "    \n",
    "    response_df = pd.DataFrame(response.json()[\"data\"])\n",
    "    \n",
    "    return response_df\n",
    "   \n",
    "def download_federal_legislators():\n",
    "    url = \"https://goverlytics.p.rapidapi.com/federal-legislators/ca\"\n",
    "\n",
    "    querystring = {\"is_active\":\"true\",\"gender\":\"M\"}\n",
    "\n",
    "    headers = {\n",
    "        'x-rapidapi-host': \"goverlytics.p.rapidapi.com\",\n",
    "        'x-rapidapi-key': \"212c957c59mshe712ce12fd7352fp18875djsn03a97ed3a159\"\n",
    "        }\n",
    "\n",
    "    response = requests.request(\"GET\", url, headers=headers, params=querystring)\n",
    "    \n",
    "    response_df = pd.DataFrame(response.json()[\"data\"])\n",
    "    \n",
    "    return response_df\n",
    "    \n",
    "#Download legislators\n",
    "    \n",
    "dict_division_legislators_male = dict([])\n",
    "\n",
    "dict_division_legislators_female = dict([])\n",
    "\n",
    "for e in list_provinces:\n",
    "    response = download_legislators(e, \"M\")\n",
    "    dict_division_legislators_male[e] = response\n",
    "    \n",
    "for e in list_provinces:\n",
    "    diccio = dict([])\n",
    "    response = download_legislators(e, \"F\")\n",
    "    dict_division_legislators_female[e] = response\n",
    "    \n",
    "#Download legislations\n",
    "\n",
    "dict_division_legislations = dict([])\n",
    "\n",
    "dict_federal_legislations = dict([])\n",
    "\n",
    "for e in list_provinces:\n",
    "    diccio = dict([])\n",
    "    response = download_division_legislations(e)\n",
    "    dict_division_legislations[e] = response\n",
    "    \n",
    "df_federal_legislations = download_federal_legislations()\n",
    "\n",
    "df_federal_legislators = download_federal_legislators()"
   ]
  },
  {
   "cell_type": "code",
   "execution_count": 151,
   "metadata": {},
   "outputs": [
    {
     "data": {
      "text/plain": [
       "Index(['goverlytics_id', 'source_id', 'bill_name', 'session',\n",
       "       'date_introduced', 'source_url', 'chamber_origin', 'committees',\n",
       "       'bill_type', 'bill_title', 'country_id', 'country', 'current_status',\n",
       "       'principal_sponsor_id', 'principal_sponsor', 'sponsors', 'sponsors_id',\n",
       "       'cosponsors', 'cosponsors_id', 'bill_description', 'source_topic',\n",
       "       'topic', 'province_territory_id', 'province_territory', 'region',\n",
       "       'sponsor_affiliation', 'sponsor_gender', 'pm_name_full', 'pm_party',\n",
       "       'pm_party_id', 'statute_year', 'statute_chapter', 'publications',\n",
       "       'last_major_event', 'actions', 'bill_summary', 'bill_text', 'votes'],\n",
       "      dtype='object')"
      ]
     },
     "execution_count": 151,
     "metadata": {},
     "output_type": "execute_result"
    }
   ],
   "source": [
    "df_federal_legislations.columns"
   ]
  },
  {
   "cell_type": "code",
   "execution_count": 152,
   "metadata": {},
   "outputs": [
    {
     "data": {
      "text/plain": [
       "0"
      ]
     },
     "execution_count": 152,
     "metadata": {},
     "output_type": "execute_result"
    }
   ],
   "source": [
    "len(df_federal_legislations[df_federal_legislations[\"last_major_event\"]==\"Royal Assent\"])"
   ]
  },
  {
   "cell_type": "code",
   "execution_count": 155,
   "metadata": {},
   "outputs": [
    {
     "data": {
      "text/plain": [
       "Index(['goverlytics_id', 'source_id', 'bill_name', 'session',\n",
       "       'date_introduced', 'source_url', 'chamber_origin', 'committees',\n",
       "       'bill_type', 'bill_title', 'country_id', 'country', 'current_status',\n",
       "       'principal_sponsor_id', 'principal_sponsor', 'sponsors', 'sponsors_id',\n",
       "       'cosponsors', 'cosponsors_id', 'bill_description', 'source_topic',\n",
       "       'topic', 'province_territory_id', 'province_territory', 'actions',\n",
       "       'bill_summary', 'bill_text', 'votes'],\n",
       "      dtype='object')"
      ]
     },
     "execution_count": 155,
     "metadata": {},
     "output_type": "execute_result"
    }
   ],
   "source": [
    "df_federal_legislations = dict_division_legislations['bc']\n",
    "\n",
    "#len(df_federal_legislations[df_federal_legislations[\"last_major_event\"]==\"Royal Assent\"])\n",
    "df_federal_legislations.columns"
   ]
  },
  {
   "cell_type": "code",
   "execution_count": 48,
   "metadata": {},
   "outputs": [
    {
     "data": {
      "text/plain": [
       "Index(['goverlytics_id', 'source_id', 'bill_name', 'session',\n",
       "       'date_introduced', 'source_url', 'chamber_origin', 'committees',\n",
       "       'bill_type', 'bill_title', 'country_id', 'country', 'current_status',\n",
       "       'principal_sponsor_id', 'principal_sponsor', 'sponsors', 'sponsors_id',\n",
       "       'cosponsors', 'cosponsors_id', 'bill_description', 'source_topic',\n",
       "       'topic', 'province_territory_id', 'province_territory', 'region',\n",
       "       'sponsor_affiliation', 'sponsor_gender', 'pm_name_full', 'pm_party',\n",
       "       'pm_party_id', 'statute_year', 'statute_chapter', 'publications',\n",
       "       'last_major_event', 'actions', 'bill_summary', 'bill_text', 'votes'],\n",
       "      dtype='object')"
      ]
     },
     "execution_count": 48,
     "metadata": {},
     "output_type": "execute_result"
    }
   ],
   "source": [
    "df_federal_legislations.columns"
   ]
  },
  {
   "cell_type": "code",
   "execution_count": null,
   "metadata": {},
   "outputs": [],
   "source": []
  },
  {
   "cell_type": "code",
   "execution_count": 68,
   "metadata": {},
   "outputs": [
    {
     "data": {
      "text/plain": [
       "Index(['goverlytics_id', 'source_id', 'bill_name', 'session',\n",
       "       'date_introduced', 'source_url', 'chamber_origin', 'committees',\n",
       "       'bill_type', 'bill_title', 'country_id', 'country', 'current_status',\n",
       "       'principal_sponsor_id', 'principal_sponsor', 'sponsors', 'sponsors_id',\n",
       "       'cosponsors', 'cosponsors_id', 'bill_description', 'source_topic',\n",
       "       'topic', 'province_territory_id', 'province_territory', 'actions',\n",
       "       'bill_summary', 'bill_text', 'votes'],\n",
       "      dtype='object')"
      ]
     },
     "execution_count": 68,
     "metadata": {},
     "output_type": "execute_result"
    }
   ],
   "source": [
    "dict_division_legislations['bc'].columns"
   ]
  },
  {
   "cell_type": "code",
   "execution_count": 71,
   "metadata": {},
   "outputs": [
    {
     "data": {
      "text/plain": [
       "0                   housing\n",
       "1                   housing\n",
       "2            macroeconomics\n",
       "3     government operations\n",
       "4             law and crime\n",
       "5         domestic commerce\n",
       "6     government operations\n",
       "7             law and crime\n",
       "8         domestic commerce\n",
       "9                     labor\n",
       "10    government operations\n",
       "11    government operations\n",
       "12    government operations\n",
       "13    government operations\n",
       "14            law and crime\n",
       "15                  defense\n",
       "Name: topic, dtype: object"
      ]
     },
     "execution_count": 71,
     "metadata": {},
     "output_type": "execute_result"
    }
   ],
   "source": [
    "dict_division_legislations['bc']['topic']"
   ]
  },
  {
   "cell_type": "code",
   "execution_count": 179,
   "metadata": {},
   "outputs": [
    {
     "data": {
      "text/plain": [
       "0                    health\n",
       "1                          \n",
       "2             law and crime\n",
       "3                          \n",
       "4                    health\n",
       "5                          \n",
       "6     international affairs\n",
       "7                          \n",
       "8                          \n",
       "9     government operations\n",
       "10                         \n",
       "11    government operations\n",
       "12                   energy\n",
       "13            law and crime\n",
       "14                         \n",
       "15                  housing\n",
       "16                   energy\n",
       "17                         \n",
       "18                education\n",
       "19                   health\n",
       "20                         \n",
       "21                         \n",
       "22                         \n",
       "23              immigration\n",
       "24                  housing\n",
       "Name: topic, dtype: object"
      ]
     },
     "execution_count": 179,
     "metadata": {},
     "output_type": "execute_result"
    }
   ],
   "source": [
    "dict_division_legislations['ab'].topic"
   ]
  },
  {
   "cell_type": "code",
   "execution_count": 182,
   "metadata": {},
   "outputs": [
    {
     "data": {
      "text/plain": [
       "0     [{'date': '2021-04-01', 'action_by': '', 'desc...\n",
       "1     [{'date': '2021-03-31', 'action_by': '', 'desc...\n",
       "2     [{'date': '2021-03-31', 'action_by': '', 'desc...\n",
       "3     [{'date': '2021-03-30', 'action_by': '', 'desc...\n",
       "4     [{'date': '2021-03-30', 'action_by': '', 'desc...\n",
       "5     [{'date': '2021-03-23', 'action_by': '', 'desc...\n",
       "6     [{'date': '2021-04-01', 'action_by': 'Standing...\n",
       "7     [{'date': '2021-03-24', 'action_by': '', 'desc...\n",
       "8     [{'date': '2021-04-01', 'action_by': '', 'desc...\n",
       "9     [{'date': '2021-03-31', 'action_by': '', 'desc...\n",
       "10    [{'date': '2021-03-23', 'action_by': '', 'desc...\n",
       "11    [{'date': '2021-03-11', 'action_by': '', 'desc...\n",
       "12    [{'date': '2021-03-23', 'action_by': 'Standing...\n",
       "13    [{'date': '2021-03-11', 'action_by': '', 'desc...\n",
       "14    [{'date': '2021-03-08', 'action_by': '', 'desc...\n",
       "15    [{'date': '2021-03-08', 'action_by': '', 'desc...\n",
       "16    [{'date': '2021-03-08', 'action_by': '', 'desc...\n",
       "17    [{'date': '2021-04-01', 'action_by': '', 'desc...\n",
       "18    [{'date': '2021-03-22', 'action_by': '', 'desc...\n",
       "19    [{'date': '2021-03-02', 'action_by': 'Standing...\n",
       "20    [{'date': '2021-03-30', 'action_by': 'Standing...\n",
       "21    [{'date': '2021-02-23', 'action_by': '', 'desc...\n",
       "22    [{'date': '2021-02-25', 'action_by': '', 'desc...\n",
       "23    [{'date': '2020-10-06', 'action_by': '', 'desc...\n",
       "24    [{'date': '2021-03-25', 'action_by': '', 'desc...\n",
       "Name: actions, dtype: object"
      ]
     },
     "execution_count": 182,
     "metadata": {},
     "output_type": "execute_result"
    }
   ],
   "source": [
    "dict_division_legislations['on'].actions"
   ]
  },
  {
   "cell_type": "code",
   "execution_count": 177,
   "metadata": {},
   "outputs": [
    {
     "data": {
      "text/plain": [
       "0     None\n",
       "1     None\n",
       "2     None\n",
       "3     None\n",
       "4     None\n",
       "5     None\n",
       "6     None\n",
       "7     None\n",
       "8     None\n",
       "9     None\n",
       "10    None\n",
       "11    None\n",
       "12    None\n",
       "13    None\n",
       "14    None\n",
       "15    None\n",
       "16    None\n",
       "17    None\n",
       "18    None\n",
       "19    None\n",
       "20    None\n",
       "21    None\n",
       "22    None\n",
       "23    None\n",
       "24    None\n",
       "Name: date_introduced, dtype: object"
      ]
     },
     "execution_count": 177,
     "metadata": {},
     "output_type": "execute_result"
    }
   ],
   "source": [
    "dict_division_legislations['on'].date_introduced"
   ]
  },
  {
   "cell_type": "code",
   "execution_count": 163,
   "metadata": {},
   "outputs": [],
   "source": [
    "url = \"https://goverlytics.p.rapidapi.com/federal-legislation/ca\"\n",
    "\n",
    "querystring = {\"sponsor_gender\":\"M\",\"include_votes\":\"true\",\"include_actions\":\"true\",\"include_text\":\"true\",\"include_summary\":\"true\"}\n",
    "\n",
    "headers = {\n",
    "    'x-rapidapi-host': \"goverlytics.p.rapidapi.com\",\n",
    "    'x-rapidapi-key': \"212c957c59mshe712ce12fd7352fp18875djsn03a97ed3a159\"\n",
    "    }\n",
    "\n",
    "response = requests.request(\"GET\", url, headers=headers, params=querystring)\n",
    "\n",
    "response_dataframe = pd.DataFrame(response.json()[\"data\"])"
   ]
  },
  {
   "cell_type": "code",
   "execution_count": 167,
   "metadata": {
    "scrolled": true
   },
   "outputs": [
    {
     "data": {
      "text/html": [
       "<div style=\"width:100%;\"><div style=\"position:relative;width:100%;height:0;padding-bottom:60%;\"><span style=\"color:#565656\">Make this Notebook Trusted to load map: File -> Trust Notebook</span><iframe src=\"about:blank\" style=\"position:absolute;width:100%;height:100%;left:0;top:0;border:none !important;\" data-html=%3C%21DOCTYPE%20html%3E%0A%3Chead%3E%20%20%20%20%0A%20%20%20%20%3Cmeta%20http-equiv%3D%22content-type%22%20content%3D%22text/html%3B%20charset%3DUTF-8%22%20/%3E%0A%20%20%20%20%0A%20%20%20%20%20%20%20%20%3Cscript%3E%0A%20%20%20%20%20%20%20%20%20%20%20%20L_NO_TOUCH%20%3D%20false%3B%0A%20%20%20%20%20%20%20%20%20%20%20%20L_DISABLE_3D%20%3D%20false%3B%0A%20%20%20%20%20%20%20%20%3C/script%3E%0A%20%20%20%20%0A%20%20%20%20%3Cstyle%3Ehtml%2C%20body%20%7Bwidth%3A%20100%25%3Bheight%3A%20100%25%3Bmargin%3A%200%3Bpadding%3A%200%3B%7D%3C/style%3E%0A%20%20%20%20%3Cstyle%3E%23map%20%7Bposition%3Aabsolute%3Btop%3A0%3Bbottom%3A0%3Bright%3A0%3Bleft%3A0%3B%7D%3C/style%3E%0A%20%20%20%20%3Cscript%20src%3D%22https%3A//cdn.jsdelivr.net/npm/leaflet%401.6.0/dist/leaflet.js%22%3E%3C/script%3E%0A%20%20%20%20%3Cscript%20src%3D%22https%3A//code.jquery.com/jquery-1.12.4.min.js%22%3E%3C/script%3E%0A%20%20%20%20%3Cscript%20src%3D%22https%3A//maxcdn.bootstrapcdn.com/bootstrap/3.2.0/js/bootstrap.min.js%22%3E%3C/script%3E%0A%20%20%20%20%3Cscript%20src%3D%22https%3A//cdnjs.cloudflare.com/ajax/libs/Leaflet.awesome-markers/2.0.2/leaflet.awesome-markers.js%22%3E%3C/script%3E%0A%20%20%20%20%3Clink%20rel%3D%22stylesheet%22%20href%3D%22https%3A//cdn.jsdelivr.net/npm/leaflet%401.6.0/dist/leaflet.css%22/%3E%0A%20%20%20%20%3Clink%20rel%3D%22stylesheet%22%20href%3D%22https%3A//maxcdn.bootstrapcdn.com/bootstrap/3.2.0/css/bootstrap.min.css%22/%3E%0A%20%20%20%20%3Clink%20rel%3D%22stylesheet%22%20href%3D%22https%3A//maxcdn.bootstrapcdn.com/bootstrap/3.2.0/css/bootstrap-theme.min.css%22/%3E%0A%20%20%20%20%3Clink%20rel%3D%22stylesheet%22%20href%3D%22https%3A//maxcdn.bootstrapcdn.com/font-awesome/4.6.3/css/font-awesome.min.css%22/%3E%0A%20%20%20%20%3Clink%20rel%3D%22stylesheet%22%20href%3D%22https%3A//cdnjs.cloudflare.com/ajax/libs/Leaflet.awesome-markers/2.0.2/leaflet.awesome-markers.css%22/%3E%0A%20%20%20%20%3Clink%20rel%3D%22stylesheet%22%20href%3D%22https%3A//cdn.jsdelivr.net/gh/python-visualization/folium/folium/templates/leaflet.awesome.rotate.min.css%22/%3E%0A%20%20%20%20%0A%20%20%20%20%20%20%20%20%20%20%20%20%3Cmeta%20name%3D%22viewport%22%20content%3D%22width%3Ddevice-width%2C%0A%20%20%20%20%20%20%20%20%20%20%20%20%20%20%20%20initial-scale%3D1.0%2C%20maximum-scale%3D1.0%2C%20user-scalable%3Dno%22%20/%3E%0A%20%20%20%20%20%20%20%20%20%20%20%20%3Cstyle%3E%0A%20%20%20%20%20%20%20%20%20%20%20%20%20%20%20%20%23map_a2f69c4dbef14dd1b2d4f732f467b2f0%20%7B%0A%20%20%20%20%20%20%20%20%20%20%20%20%20%20%20%20%20%20%20%20position%3A%20relative%3B%0A%20%20%20%20%20%20%20%20%20%20%20%20%20%20%20%20%20%20%20%20width%3A%20100.0%25%3B%0A%20%20%20%20%20%20%20%20%20%20%20%20%20%20%20%20%20%20%20%20height%3A%20100.0%25%3B%0A%20%20%20%20%20%20%20%20%20%20%20%20%20%20%20%20%20%20%20%20left%3A%200.0%25%3B%0A%20%20%20%20%20%20%20%20%20%20%20%20%20%20%20%20%20%20%20%20top%3A%200.0%25%3B%0A%20%20%20%20%20%20%20%20%20%20%20%20%20%20%20%20%7D%0A%20%20%20%20%20%20%20%20%20%20%20%20%3C/style%3E%0A%20%20%20%20%20%20%20%20%0A%3C/head%3E%0A%3Cbody%3E%20%20%20%20%0A%20%20%20%20%0A%20%20%20%20%20%20%20%20%20%20%20%20%3Cdiv%20class%3D%22folium-map%22%20id%3D%22map_a2f69c4dbef14dd1b2d4f732f467b2f0%22%20%3E%3C/div%3E%0A%20%20%20%20%20%20%20%20%0A%3C/body%3E%0A%3Cscript%3E%20%20%20%20%0A%20%20%20%20%0A%20%20%20%20%20%20%20%20%20%20%20%20var%20map_a2f69c4dbef14dd1b2d4f732f467b2f0%20%3D%20L.map%28%0A%20%20%20%20%20%20%20%20%20%20%20%20%20%20%20%20%22map_a2f69c4dbef14dd1b2d4f732f467b2f0%22%2C%0A%20%20%20%20%20%20%20%20%20%20%20%20%20%20%20%20%7B%0A%20%20%20%20%20%20%20%20%20%20%20%20%20%20%20%20%20%20%20%20center%3A%20%5B58.084167%2C%20-99.959314%5D%2C%0A%20%20%20%20%20%20%20%20%20%20%20%20%20%20%20%20%20%20%20%20crs%3A%20L.CRS.EPSG3857%2C%0A%20%20%20%20%20%20%20%20%20%20%20%20%20%20%20%20%20%20%20%20zoom%3A%203%2C%0A%20%20%20%20%20%20%20%20%20%20%20%20%20%20%20%20%20%20%20%20zoomControl%3A%20true%2C%0A%20%20%20%20%20%20%20%20%20%20%20%20%20%20%20%20%20%20%20%20preferCanvas%3A%20false%2C%0A%20%20%20%20%20%20%20%20%20%20%20%20%20%20%20%20%7D%0A%20%20%20%20%20%20%20%20%20%20%20%20%29%3B%0A%0A%20%20%20%20%20%20%20%20%20%20%20%20%0A%0A%20%20%20%20%20%20%20%20%0A%20%20%20%20%0A%20%20%20%20%20%20%20%20%20%20%20%20var%20tile_layer_8599937267a646f19578e3ed5aa96708%20%3D%20L.tileLayer%28%0A%20%20%20%20%20%20%20%20%20%20%20%20%20%20%20%20%22https%3A//%7Bs%7D.tile.openstreetmap.org/%7Bz%7D/%7Bx%7D/%7By%7D.png%22%2C%0A%20%20%20%20%20%20%20%20%20%20%20%20%20%20%20%20%7B%22attribution%22%3A%20%22Data%20by%20%5Cu0026copy%3B%20%5Cu003ca%20href%3D%5C%22http%3A//openstreetmap.org%5C%22%5Cu003eOpenStreetMap%5Cu003c/a%5Cu003e%2C%20under%20%5Cu003ca%20href%3D%5C%22http%3A//www.openstreetmap.org/copyright%5C%22%5Cu003eODbL%5Cu003c/a%5Cu003e.%22%2C%20%22detectRetina%22%3A%20false%2C%20%22maxNativeZoom%22%3A%2018%2C%20%22maxZoom%22%3A%2018%2C%20%22minZoom%22%3A%200%2C%20%22noWrap%22%3A%20false%2C%20%22opacity%22%3A%201%2C%20%22subdomains%22%3A%20%22abc%22%2C%20%22tms%22%3A%20false%7D%0A%20%20%20%20%20%20%20%20%20%20%20%20%29.addTo%28map_a2f69c4dbef14dd1b2d4f732f467b2f0%29%3B%0A%20%20%20%20%20%20%20%20%0A%20%20%20%20%0A%20%20%20%20%20%20%20%20%20%20%20%20var%20marker_836c4ddac0a245cc95304485ef8a5396%20%3D%20L.marker%28%0A%20%20%20%20%20%20%20%20%20%20%20%20%20%20%20%20%5B53.5%2C%20-124.4%5D%2C%0A%20%20%20%20%20%20%20%20%20%20%20%20%20%20%20%20%7B%7D%0A%20%20%20%20%20%20%20%20%20%20%20%20%29.addTo%28map_a2f69c4dbef14dd1b2d4f732f467b2f0%29%3B%0A%20%20%20%20%20%20%20%20%0A%20%20%20%20%0A%20%20%20%20%20%20%20%20var%20popup_c356d0c8fef742c79e0baff7012870e1%20%3D%20L.popup%28%7B%22maxWidth%22%3A%20%22100%25%22%7D%29%3B%0A%0A%20%20%20%20%20%20%20%20%0A%20%20%20%20%20%20%20%20%20%20%20%20var%20html_de3970cb23ab4bb49466987a119c4dbe%20%3D%20%24%28%60%3Cdiv%20id%3D%22html_de3970cb23ab4bb49466987a119c4dbe%22%20style%3D%22width%3A%20100.0%25%3B%20height%3A%20100.0%25%3B%22%3E%3Ch4%3E%20%3Cb%3E%20British%20Columbia%3C/h4%3E%20%3C/b%3E%5C%20Bills%20passed%3A%20%3C/div%3E%60%29%5B0%5D%3B%0A%20%20%20%20%20%20%20%20%20%20%20%20popup_c356d0c8fef742c79e0baff7012870e1.setContent%28html_de3970cb23ab4bb49466987a119c4dbe%29%3B%0A%20%20%20%20%20%20%20%20%0A%0A%20%20%20%20%20%20%20%20marker_836c4ddac0a245cc95304485ef8a5396.bindPopup%28popup_c356d0c8fef742c79e0baff7012870e1%29%0A%20%20%20%20%20%20%20%20%3B%0A%0A%20%20%20%20%20%20%20%20%0A%20%20%20%20%0A%20%20%20%20%0A%20%20%20%20%20%20%20%20%20%20%20%20marker_836c4ddac0a245cc95304485ef8a5396.bindTooltip%28%0A%20%20%20%20%20%20%20%20%20%20%20%20%20%20%20%20%60%3Cdiv%3E%0A%20%20%20%20%20%20%20%20%20%20%20%20%20%20%20%20%20%20%20%20%20BC%0A%20%20%20%20%20%20%20%20%20%20%20%20%20%20%20%20%20%3C/div%3E%60%2C%0A%20%20%20%20%20%20%20%20%20%20%20%20%20%20%20%20%7B%22sticky%22%3A%20true%7D%0A%20%20%20%20%20%20%20%20%20%20%20%20%29%3B%0A%20%20%20%20%20%20%20%20%0A%20%20%20%20%0A%20%20%20%20%20%20%20%20%20%20%20%20var%20marker_b43675a9d2f24e50bb1067b2c9b387f5%20%3D%20L.marker%28%0A%20%20%20%20%20%20%20%20%20%20%20%20%20%20%20%20%5B55.436645%2C%20-114.177669%5D%2C%0A%20%20%20%20%20%20%20%20%20%20%20%20%20%20%20%20%7B%7D%0A%20%20%20%20%20%20%20%20%20%20%20%20%29.addTo%28map_a2f69c4dbef14dd1b2d4f732f467b2f0%29%3B%0A%20%20%20%20%20%20%20%20%0A%20%20%20%20%0A%20%20%20%20%20%20%20%20var%20popup_a3cf602df50a4d12acdf724d6653b08c%20%3D%20L.popup%28%7B%22maxWidth%22%3A%20%22100%25%22%7D%29%3B%0A%0A%20%20%20%20%20%20%20%20%0A%20%20%20%20%20%20%20%20%20%20%20%20var%20html_71f4c6aa62474595b4f86d8fbc054a1f%20%3D%20%24%28%60%3Cdiv%20id%3D%22html_71f4c6aa62474595b4f86d8fbc054a1f%22%20style%3D%22width%3A%20100.0%25%3B%20height%3A%20100.0%25%3B%22%3E%3Ch4%3E%20%3Cb%3E%20Alberta%3C/h4%3E%20%3C/b%3E%5C%20Bills%20passed%3A%3C/div%3E%60%29%5B0%5D%3B%0A%20%20%20%20%20%20%20%20%20%20%20%20popup_a3cf602df50a4d12acdf724d6653b08c.setContent%28html_71f4c6aa62474595b4f86d8fbc054a1f%29%3B%0A%20%20%20%20%20%20%20%20%0A%0A%20%20%20%20%20%20%20%20marker_b43675a9d2f24e50bb1067b2c9b387f5.bindPopup%28popup_a3cf602df50a4d12acdf724d6653b08c%29%0A%20%20%20%20%20%20%20%20%3B%0A%0A%20%20%20%20%20%20%20%20%0A%20%20%20%20%0A%20%20%20%20%0A%20%20%20%20%20%20%20%20%20%20%20%20marker_b43675a9d2f24e50bb1067b2c9b387f5.bindTooltip%28%0A%20%20%20%20%20%20%20%20%20%20%20%20%20%20%20%20%60%3Cdiv%3E%0A%20%20%20%20%20%20%20%20%20%20%20%20%20%20%20%20%20%20%20%20%20AB%0A%20%20%20%20%20%20%20%20%20%20%20%20%20%20%20%20%20%3C/div%3E%60%2C%0A%20%20%20%20%20%20%20%20%20%20%20%20%20%20%20%20%7B%22sticky%22%3A%20true%7D%0A%20%20%20%20%20%20%20%20%20%20%20%20%29%3B%0A%20%20%20%20%20%20%20%20%0A%20%20%20%20%0A%20%20%20%20%20%20%20%20%20%20%20%20var%20marker_592f34b0880b4338afe4c041eaac6ef8%20%3D%20L.marker%28%0A%20%20%20%20%20%20%20%20%20%20%20%20%20%20%20%20%5B55.149194%2C%20-105.988562%5D%2C%0A%20%20%20%20%20%20%20%20%20%20%20%20%20%20%20%20%7B%7D%0A%20%20%20%20%20%20%20%20%20%20%20%20%29.addTo%28map_a2f69c4dbef14dd1b2d4f732f467b2f0%29%3B%0A%20%20%20%20%20%20%20%20%0A%20%20%20%20%0A%20%20%20%20%20%20%20%20var%20popup_7208a73b1ffa473283f219c13872d216%20%3D%20L.popup%28%7B%22maxWidth%22%3A%20%22100%25%22%7D%29%3B%0A%0A%20%20%20%20%20%20%20%20%0A%20%20%20%20%20%20%20%20%20%20%20%20var%20html_9fc6874594404436ad8586d3787e57d2%20%3D%20%24%28%60%3Cdiv%20id%3D%22html_9fc6874594404436ad8586d3787e57d2%22%20style%3D%22width%3A%20100.0%25%3B%20height%3A%20100.0%25%3B%22%3E%3Ch4%3E%20%3Cb%3E%20Saskatchewan%3C/h4%3E%20%3C/b%3E%5C%20Bills%20passed%3A%3C/div%3E%60%29%5B0%5D%3B%0A%20%20%20%20%20%20%20%20%20%20%20%20popup_7208a73b1ffa473283f219c13872d216.setContent%28html_9fc6874594404436ad8586d3787e57d2%29%3B%0A%20%20%20%20%20%20%20%20%0A%0A%20%20%20%20%20%20%20%20marker_592f34b0880b4338afe4c041eaac6ef8.bindPopup%28popup_7208a73b1ffa473283f219c13872d216%29%0A%20%20%20%20%20%20%20%20%3B%0A%0A%20%20%20%20%20%20%20%20%0A%20%20%20%20%0A%20%20%20%20%0A%20%20%20%20%20%20%20%20%20%20%20%20marker_592f34b0880b4338afe4c041eaac6ef8.bindTooltip%28%0A%20%20%20%20%20%20%20%20%20%20%20%20%20%20%20%20%60%3Cdiv%3E%0A%20%20%20%20%20%20%20%20%20%20%20%20%20%20%20%20%20%20%20%20%20SK%0A%20%20%20%20%20%20%20%20%20%20%20%20%20%20%20%20%20%3C/div%3E%60%2C%0A%20%20%20%20%20%20%20%20%20%20%20%20%20%20%20%20%7B%22sticky%22%3A%20true%7D%0A%20%20%20%20%20%20%20%20%20%20%20%20%29%3B%0A%20%20%20%20%20%20%20%20%0A%20%20%20%20%0A%20%20%20%20%20%20%20%20%20%20%20%20var%20marker_69f0b23ae7874acba8609110df3a9dca%20%3D%20L.marker%28%0A%20%20%20%20%20%20%20%20%20%20%20%20%20%20%20%20%5B55.222793%2C%20-97.115573%5D%2C%0A%20%20%20%20%20%20%20%20%20%20%20%20%20%20%20%20%7B%7D%0A%20%20%20%20%20%20%20%20%20%20%20%20%29.addTo%28map_a2f69c4dbef14dd1b2d4f732f467b2f0%29%3B%0A%20%20%20%20%20%20%20%20%0A%20%20%20%20%0A%20%20%20%20%20%20%20%20var%20popup_a391442b301f4b38bbf45171eb05a217%20%3D%20L.popup%28%7B%22maxWidth%22%3A%20%22100%25%22%7D%29%3B%0A%0A%20%20%20%20%20%20%20%20%0A%20%20%20%20%20%20%20%20%20%20%20%20var%20html_57ab88d187b64196944cf327b1bbd971%20%3D%20%24%28%60%3Cdiv%20id%3D%22html_57ab88d187b64196944cf327b1bbd971%22%20style%3D%22width%3A%20100.0%25%3B%20height%3A%20100.0%25%3B%22%3E%3Ch4%3E%20%3Cb%3E%20Manitoba%3C/h4%3E%20%3C/b%3E%5C%20Bills%20passed%3A%3C/div%3E%60%29%5B0%5D%3B%0A%20%20%20%20%20%20%20%20%20%20%20%20popup_a391442b301f4b38bbf45171eb05a217.setContent%28html_57ab88d187b64196944cf327b1bbd971%29%3B%0A%20%20%20%20%20%20%20%20%0A%0A%20%20%20%20%20%20%20%20marker_69f0b23ae7874acba8609110df3a9dca.bindPopup%28popup_a391442b301f4b38bbf45171eb05a217%29%0A%20%20%20%20%20%20%20%20%3B%0A%0A%20%20%20%20%20%20%20%20%0A%20%20%20%20%0A%20%20%20%20%0A%20%20%20%20%20%20%20%20%20%20%20%20marker_69f0b23ae7874acba8609110df3a9dca.bindTooltip%28%0A%20%20%20%20%20%20%20%20%20%20%20%20%20%20%20%20%60%3Cdiv%3E%0A%20%20%20%20%20%20%20%20%20%20%20%20%20%20%20%20%20%20%20%20%20MB%0A%20%20%20%20%20%20%20%20%20%20%20%20%20%20%20%20%20%3C/div%3E%60%2C%0A%20%20%20%20%20%20%20%20%20%20%20%20%20%20%20%20%7B%22sticky%22%3A%20true%7D%0A%20%20%20%20%20%20%20%20%20%20%20%20%29%3B%0A%20%20%20%20%20%20%20%20%0A%20%20%20%20%0A%20%20%20%20%20%20%20%20%20%20%20%20var%20marker_b05de1785886453d9a2009e2d017e0ca%20%3D%20L.marker%28%0A%20%20%20%20%20%20%20%20%20%20%20%20%20%20%20%20%5B51.008623%2C%20-86.090106%5D%2C%0A%20%20%20%20%20%20%20%20%20%20%20%20%20%20%20%20%7B%7D%0A%20%20%20%20%20%20%20%20%20%20%20%20%29.addTo%28map_a2f69c4dbef14dd1b2d4f732f467b2f0%29%3B%0A%20%20%20%20%20%20%20%20%0A%20%20%20%20%0A%20%20%20%20%20%20%20%20var%20popup_171c507e8e1a41138ac36c6b721c9e07%20%3D%20L.popup%28%7B%22maxWidth%22%3A%20%22100%25%22%7D%29%3B%0A%0A%20%20%20%20%20%20%20%20%0A%20%20%20%20%20%20%20%20%20%20%20%20var%20html_d23d608972ee4557b5b823950d40a45d%20%3D%20%24%28%60%3Cdiv%20id%3D%22html_d23d608972ee4557b5b823950d40a45d%22%20style%3D%22width%3A%20100.0%25%3B%20height%3A%20100.0%25%3B%22%3E%3Ch4%3E%20%3Cb%3E%20Ontario%3C/h4%3E%20%3C/b%3E%5C%20Bills%20passed%3A%3C/div%3E%60%29%5B0%5D%3B%0A%20%20%20%20%20%20%20%20%20%20%20%20popup_171c507e8e1a41138ac36c6b721c9e07.setContent%28html_d23d608972ee4557b5b823950d40a45d%29%3B%0A%20%20%20%20%20%20%20%20%0A%0A%20%20%20%20%20%20%20%20marker_b05de1785886453d9a2009e2d017e0ca.bindPopup%28popup_171c507e8e1a41138ac36c6b721c9e07%29%0A%20%20%20%20%20%20%20%20%3B%0A%0A%20%20%20%20%20%20%20%20%0A%20%20%20%20%0A%20%20%20%20%0A%20%20%20%20%20%20%20%20%20%20%20%20marker_b05de1785886453d9a2009e2d017e0ca.bindTooltip%28%0A%20%20%20%20%20%20%20%20%20%20%20%20%20%20%20%20%60%3Cdiv%3E%0A%20%20%20%20%20%20%20%20%20%20%20%20%20%20%20%20%20%20%20%20%20ON%0A%20%20%20%20%20%20%20%20%20%20%20%20%20%20%20%20%20%3C/div%3E%60%2C%0A%20%20%20%20%20%20%20%20%20%20%20%20%20%20%20%20%7B%22sticky%22%3A%20true%7D%0A%20%20%20%20%20%20%20%20%20%20%20%20%29%3B%0A%20%20%20%20%20%20%20%20%0A%20%20%20%20%0A%20%20%20%20%20%20%20%20%20%20%20%20var%20marker_72662a08d1764df2aff232b9017b7b7d%20%3D%20L.marker%28%0A%20%20%20%20%20%20%20%20%20%20%20%20%20%20%20%20%5B52.069473%2C%20-71.427672%5D%2C%0A%20%20%20%20%20%20%20%20%20%20%20%20%20%20%20%20%7B%7D%0A%20%20%20%20%20%20%20%20%20%20%20%20%29.addTo%28map_a2f69c4dbef14dd1b2d4f732f467b2f0%29%3B%0A%20%20%20%20%20%20%20%20%0A%20%20%20%20%0A%20%20%20%20%20%20%20%20var%20popup_a42453d6c3e04045be2bf4d58952aede%20%3D%20L.popup%28%7B%22maxWidth%22%3A%20%22100%25%22%7D%29%3B%0A%0A%20%20%20%20%20%20%20%20%0A%20%20%20%20%20%20%20%20%20%20%20%20var%20html_3faeaf6bef86407f9d5bbe5bc4224e63%20%3D%20%24%28%60%3Cdiv%20id%3D%22html_3faeaf6bef86407f9d5bbe5bc4224e63%22%20style%3D%22width%3A%20100.0%25%3B%20height%3A%20100.0%25%3B%22%3E%3Ch4%3E%20%3Cb%3E%20Quebec%3C/h4%3E%20%3C/b%3E%5C%20Bills%20passed%3A%3C/div%3E%60%29%5B0%5D%3B%0A%20%20%20%20%20%20%20%20%20%20%20%20popup_a42453d6c3e04045be2bf4d58952aede.setContent%28html_3faeaf6bef86407f9d5bbe5bc4224e63%29%3B%0A%20%20%20%20%20%20%20%20%0A%0A%20%20%20%20%20%20%20%20marker_72662a08d1764df2aff232b9017b7b7d.bindPopup%28popup_a42453d6c3e04045be2bf4d58952aede%29%0A%20%20%20%20%20%20%20%20%3B%0A%0A%20%20%20%20%20%20%20%20%0A%20%20%20%20%0A%20%20%20%20%0A%20%20%20%20%20%20%20%20%20%20%20%20marker_72662a08d1764df2aff232b9017b7b7d.bindTooltip%28%0A%20%20%20%20%20%20%20%20%20%20%20%20%20%20%20%20%60%3Cdiv%3E%0A%20%20%20%20%20%20%20%20%20%20%20%20%20%20%20%20%20%20%20%20%20QB%0A%20%20%20%20%20%20%20%20%20%20%20%20%20%20%20%20%20%3C/div%3E%60%2C%0A%20%20%20%20%20%20%20%20%20%20%20%20%20%20%20%20%7B%22sticky%22%3A%20true%7D%0A%20%20%20%20%20%20%20%20%20%20%20%20%29%3B%0A%20%20%20%20%20%20%20%20%0A%20%20%20%20%0A%20%20%20%20%20%20%20%20%20%20%20%20var%20marker_eaf276bf09154a52b77382741bcc27e8%20%3D%20L.marker%28%0A%20%20%20%20%20%20%20%20%20%20%20%20%20%20%20%20%5B53.400751%2C%20-60.730773%5D%2C%0A%20%20%20%20%20%20%20%20%20%20%20%20%20%20%20%20%7B%7D%0A%20%20%20%20%20%20%20%20%20%20%20%20%29.addTo%28map_a2f69c4dbef14dd1b2d4f732f467b2f0%29%3B%0A%20%20%20%20%20%20%20%20%0A%20%20%20%20%0A%20%20%20%20%20%20%20%20var%20popup_3d4d852519d54620a9bdc33544873470%20%3D%20L.popup%28%7B%22maxWidth%22%3A%20%22100%25%22%7D%29%3B%0A%0A%20%20%20%20%20%20%20%20%0A%20%20%20%20%20%20%20%20%20%20%20%20var%20html_87b30464d03f4103bf3d9296cecf98b3%20%3D%20%24%28%60%3Cdiv%20id%3D%22html_87b30464d03f4103bf3d9296cecf98b3%22%20style%3D%22width%3A%20100.0%25%3B%20height%3A%20100.0%25%3B%22%3E%3Ch4%3E%20%3Cb%3E%20Newfoundland%20and%20Labrador%3C/h4%3E%20%3C/b%3E%5C%20Bills%20passed%3A%3C/div%3E%60%29%5B0%5D%3B%0A%20%20%20%20%20%20%20%20%20%20%20%20popup_3d4d852519d54620a9bdc33544873470.setContent%28html_87b30464d03f4103bf3d9296cecf98b3%29%3B%0A%20%20%20%20%20%20%20%20%0A%0A%20%20%20%20%20%20%20%20marker_eaf276bf09154a52b77382741bcc27e8.bindPopup%28popup_3d4d852519d54620a9bdc33544873470%29%0A%20%20%20%20%20%20%20%20%3B%0A%0A%20%20%20%20%20%20%20%20%0A%20%20%20%20%0A%20%20%20%20%0A%20%20%20%20%20%20%20%20%20%20%20%20marker_eaf276bf09154a52b77382741bcc27e8.bindTooltip%28%0A%20%20%20%20%20%20%20%20%20%20%20%20%20%20%20%20%60%3Cdiv%3E%0A%20%20%20%20%20%20%20%20%20%20%20%20%20%20%20%20%20%20%20%20%20NL%0A%20%20%20%20%20%20%20%20%20%20%20%20%20%20%20%20%20%3C/div%3E%60%2C%0A%20%20%20%20%20%20%20%20%20%20%20%20%20%20%20%20%7B%22sticky%22%3A%20true%7D%0A%20%20%20%20%20%20%20%20%20%20%20%20%29%3B%0A%20%20%20%20%20%20%20%20%0A%20%20%20%20%0A%20%20%20%20%20%20%20%20%20%20%20%20var%20marker_aaa5d0f21172435eaadbfa90a6461f63%20%3D%20L.marker%28%0A%20%20%20%20%20%20%20%20%20%20%20%20%20%20%20%20%5B64.24558%2C%20-136.177762%5D%2C%0A%20%20%20%20%20%20%20%20%20%20%20%20%20%20%20%20%7B%7D%0A%20%20%20%20%20%20%20%20%20%20%20%20%29.addTo%28map_a2f69c4dbef14dd1b2d4f732f467b2f0%29%3B%0A%20%20%20%20%20%20%20%20%0A%20%20%20%20%0A%20%20%20%20%20%20%20%20var%20popup_32c6dd4a6c5c4ec1b8d7332db85f2102%20%3D%20L.popup%28%7B%22maxWidth%22%3A%20%22100%25%22%7D%29%3B%0A%0A%20%20%20%20%20%20%20%20%0A%20%20%20%20%20%20%20%20%20%20%20%20var%20html_41d6e31db35941e79565b569efd7c067%20%3D%20%24%28%60%3Cdiv%20id%3D%22html_41d6e31db35941e79565b569efd7c067%22%20style%3D%22width%3A%20100.0%25%3B%20height%3A%20100.0%25%3B%22%3E%3Ch4%3E%20%3Cb%3E%20Yukon%3C/h4%3E%20%3C/b%3E%5C%20Bills%20passed%3A%3C/div%3E%60%29%5B0%5D%3B%0A%20%20%20%20%20%20%20%20%20%20%20%20popup_32c6dd4a6c5c4ec1b8d7332db85f2102.setContent%28html_41d6e31db35941e79565b569efd7c067%29%3B%0A%20%20%20%20%20%20%20%20%0A%0A%20%20%20%20%20%20%20%20marker_aaa5d0f21172435eaadbfa90a6461f63.bindPopup%28popup_32c6dd4a6c5c4ec1b8d7332db85f2102%29%0A%20%20%20%20%20%20%20%20%3B%0A%0A%20%20%20%20%20%20%20%20%0A%20%20%20%20%0A%20%20%20%20%0A%20%20%20%20%20%20%20%20%20%20%20%20marker_aaa5d0f21172435eaadbfa90a6461f63.bindTooltip%28%0A%20%20%20%20%20%20%20%20%20%20%20%20%20%20%20%20%60%3Cdiv%3E%0A%20%20%20%20%20%20%20%20%20%20%20%20%20%20%20%20%20%20%20%20%20YT%0A%20%20%20%20%20%20%20%20%20%20%20%20%20%20%20%20%20%3C/div%3E%60%2C%0A%20%20%20%20%20%20%20%20%20%20%20%20%20%20%20%20%7B%22sticky%22%3A%20true%7D%0A%20%20%20%20%20%20%20%20%20%20%20%20%29%3B%0A%20%20%20%20%20%20%20%20%0A%20%20%20%20%0A%20%20%20%20%20%20%20%20%20%20%20%20var%20marker_cece71eea7684041b24f72a684d40340%20%3D%20L.marker%28%0A%20%20%20%20%20%20%20%20%20%20%20%20%20%20%20%20%5B46.389358%2C%20-63.302173%5D%2C%0A%20%20%20%20%20%20%20%20%20%20%20%20%20%20%20%20%7B%7D%0A%20%20%20%20%20%20%20%20%20%20%20%20%29.addTo%28map_a2f69c4dbef14dd1b2d4f732f467b2f0%29%3B%0A%20%20%20%20%20%20%20%20%0A%20%20%20%20%0A%20%20%20%20%20%20%20%20var%20popup_445bcd5cb2934f709321edfa6b19f724%20%3D%20L.popup%28%7B%22maxWidth%22%3A%20%22100%25%22%7D%29%3B%0A%0A%20%20%20%20%20%20%20%20%0A%20%20%20%20%20%20%20%20%20%20%20%20var%20html_549f08b33f9e4f1b988a45ef238a0b86%20%3D%20%24%28%60%3Cdiv%20id%3D%22html_549f08b33f9e4f1b988a45ef238a0b86%22%20style%3D%22width%3A%20100.0%25%3B%20height%3A%20100.0%25%3B%22%3E%3Ch4%3E%20%3Cb%3E%20Prince%20Edward%3C/h4%3E%20%3C/b%3E%5C%20Bills%20passed%3A%3C/div%3E%60%29%5B0%5D%3B%0A%20%20%20%20%20%20%20%20%20%20%20%20popup_445bcd5cb2934f709321edfa6b19f724.setContent%28html_549f08b33f9e4f1b988a45ef238a0b86%29%3B%0A%20%20%20%20%20%20%20%20%0A%0A%20%20%20%20%20%20%20%20marker_cece71eea7684041b24f72a684d40340.bindPopup%28popup_445bcd5cb2934f709321edfa6b19f724%29%0A%20%20%20%20%20%20%20%20%3B%0A%0A%20%20%20%20%20%20%20%20%0A%20%20%20%20%0A%20%20%20%20%0A%20%20%20%20%20%20%20%20%20%20%20%20marker_cece71eea7684041b24f72a684d40340.bindTooltip%28%0A%20%20%20%20%20%20%20%20%20%20%20%20%20%20%20%20%60%3Cdiv%3E%0A%20%20%20%20%20%20%20%20%20%20%20%20%20%20%20%20%20%20%20%20%20PE%0A%20%20%20%20%20%20%20%20%20%20%20%20%20%20%20%20%20%3C/div%3E%60%2C%0A%20%20%20%20%20%20%20%20%20%20%20%20%20%20%20%20%7B%22sticky%22%3A%20true%7D%0A%20%20%20%20%20%20%20%20%20%20%20%20%29%3B%0A%20%20%20%20%20%20%20%20%0A%20%20%20%20%0A%20%20%20%20%20%20%20%20%20%20%20%20var%20marker_dc55ec1a7f544bc8a0f90223b92832ec%20%3D%20L.marker%28%0A%20%20%20%20%20%20%20%20%20%20%20%20%20%20%20%20%5B45.273052%2C%20-63.035154%5D%2C%0A%20%20%20%20%20%20%20%20%20%20%20%20%20%20%20%20%7B%7D%0A%20%20%20%20%20%20%20%20%20%20%20%20%29.addTo%28map_a2f69c4dbef14dd1b2d4f732f467b2f0%29%3B%0A%20%20%20%20%20%20%20%20%0A%20%20%20%20%0A%20%20%20%20%20%20%20%20var%20popup_710fd55d606c4bf88fc0209e726148a8%20%3D%20L.popup%28%7B%22maxWidth%22%3A%20%22100%25%22%7D%29%3B%0A%0A%20%20%20%20%20%20%20%20%0A%20%20%20%20%20%20%20%20%20%20%20%20var%20html_4c1b5653a6a24b48a9414dae752d06ee%20%3D%20%24%28%60%3Cdiv%20id%3D%22html_4c1b5653a6a24b48a9414dae752d06ee%22%20style%3D%22width%3A%20100.0%25%3B%20height%3A%20100.0%25%3B%22%3E%3Ch4%3E%20%3Cb%3E%20Nova%20Scotia%3C/h4%3E%20%3C/b%3E%5C%20Bills%20passed%3A%3C/div%3E%60%29%5B0%5D%3B%0A%20%20%20%20%20%20%20%20%20%20%20%20popup_710fd55d606c4bf88fc0209e726148a8.setContent%28html_4c1b5653a6a24b48a9414dae752d06ee%29%3B%0A%20%20%20%20%20%20%20%20%0A%0A%20%20%20%20%20%20%20%20marker_dc55ec1a7f544bc8a0f90223b92832ec.bindPopup%28popup_710fd55d606c4bf88fc0209e726148a8%29%0A%20%20%20%20%20%20%20%20%3B%0A%0A%20%20%20%20%20%20%20%20%0A%20%20%20%20%0A%20%20%20%20%0A%20%20%20%20%20%20%20%20%20%20%20%20marker_dc55ec1a7f544bc8a0f90223b92832ec.bindTooltip%28%0A%20%20%20%20%20%20%20%20%20%20%20%20%20%20%20%20%60%3Cdiv%3E%0A%20%20%20%20%20%20%20%20%20%20%20%20%20%20%20%20%20%20%20%20%20NS%0A%20%20%20%20%20%20%20%20%20%20%20%20%20%20%20%20%20%3C/div%3E%60%2C%0A%20%20%20%20%20%20%20%20%20%20%20%20%20%20%20%20%7B%22sticky%22%3A%20true%7D%0A%20%20%20%20%20%20%20%20%20%20%20%20%29%3B%0A%20%20%20%20%20%20%20%20%0A%20%20%20%20%0A%20%20%20%20%20%20%20%20%20%20%20%20var%20marker_17d0c2b0dc8b4ee68e4d3ab12e196b58%20%3D%20L.marker%28%0A%20%20%20%20%20%20%20%20%20%20%20%20%20%20%20%20%5B46.648582%2C%20-66.396753%5D%2C%0A%20%20%20%20%20%20%20%20%20%20%20%20%20%20%20%20%7B%7D%0A%20%20%20%20%20%20%20%20%20%20%20%20%29.addTo%28map_a2f69c4dbef14dd1b2d4f732f467b2f0%29%3B%0A%20%20%20%20%20%20%20%20%0A%20%20%20%20%0A%20%20%20%20%20%20%20%20var%20popup_d9ecb1e8179c447dacbb38d2f753d99e%20%3D%20L.popup%28%7B%22maxWidth%22%3A%20%22100%25%22%7D%29%3B%0A%0A%20%20%20%20%20%20%20%20%0A%20%20%20%20%20%20%20%20%20%20%20%20var%20html_ab61c908d3344011b3b77b45e37dc2d2%20%3D%20%24%28%60%3Cdiv%20id%3D%22html_ab61c908d3344011b3b77b45e37dc2d2%22%20style%3D%22width%3A%20100.0%25%3B%20height%3A%20100.0%25%3B%22%3E%3Ch4%3E%20%3Cb%3E%20New%20Brunswick%3C/h4%3E%20%3C/b%3E%5C%20Bills%20passed%3A%3C/div%3E%60%29%5B0%5D%3B%0A%20%20%20%20%20%20%20%20%20%20%20%20popup_d9ecb1e8179c447dacbb38d2f753d99e.setContent%28html_ab61c908d3344011b3b77b45e37dc2d2%29%3B%0A%20%20%20%20%20%20%20%20%0A%0A%20%20%20%20%20%20%20%20marker_17d0c2b0dc8b4ee68e4d3ab12e196b58.bindPopup%28popup_d9ecb1e8179c447dacbb38d2f753d99e%29%0A%20%20%20%20%20%20%20%20%3B%0A%0A%20%20%20%20%20%20%20%20%0A%20%20%20%20%0A%20%20%20%20%0A%20%20%20%20%20%20%20%20%20%20%20%20marker_17d0c2b0dc8b4ee68e4d3ab12e196b58.bindTooltip%28%0A%20%20%20%20%20%20%20%20%20%20%20%20%20%20%20%20%60%3Cdiv%3E%0A%20%20%20%20%20%20%20%20%20%20%20%20%20%20%20%20%20%20%20%20%20NB%0A%20%20%20%20%20%20%20%20%20%20%20%20%20%20%20%20%20%3C/div%3E%60%2C%0A%20%20%20%20%20%20%20%20%20%20%20%20%20%20%20%20%7B%22sticky%22%3A%20true%7D%0A%20%20%20%20%20%20%20%20%20%20%20%20%29%3B%0A%20%20%20%20%20%20%20%20%0A%20%20%20%20%0A%20%20%20%20%20%20%20%20%20%20%20%20var%20marker_0d88955cf6c343c2b399e2e3ea964811%20%3D%20L.marker%28%0A%20%20%20%20%20%20%20%20%20%20%20%20%20%20%20%20%5B66.372019%2C%20-94.7199%5D%2C%0A%20%20%20%20%20%20%20%20%20%20%20%20%20%20%20%20%7B%7D%0A%20%20%20%20%20%20%20%20%20%20%20%20%29.addTo%28map_a2f69c4dbef14dd1b2d4f732f467b2f0%29%3B%0A%20%20%20%20%20%20%20%20%0A%20%20%20%20%0A%20%20%20%20%20%20%20%20var%20popup_497ef139168d467a9e75a15a72ba01b9%20%3D%20L.popup%28%7B%22maxWidth%22%3A%20%22100%25%22%7D%29%3B%0A%0A%20%20%20%20%20%20%20%20%0A%20%20%20%20%20%20%20%20%20%20%20%20var%20html_df69bfc3e87d4d8c9a7840442b692712%20%3D%20%24%28%60%3Cdiv%20id%3D%22html_df69bfc3e87d4d8c9a7840442b692712%22%20style%3D%22width%3A%20100.0%25%3B%20height%3A%20100.0%25%3B%22%3E%3Ch4%3E%20%3Cb%3E%20Nunavut%3C/h4%3E%20%3C/b%3E%5C%20Bills%20passed%3A%3C/div%3E%60%29%5B0%5D%3B%0A%20%20%20%20%20%20%20%20%20%20%20%20popup_497ef139168d467a9e75a15a72ba01b9.setContent%28html_df69bfc3e87d4d8c9a7840442b692712%29%3B%0A%20%20%20%20%20%20%20%20%0A%0A%20%20%20%20%20%20%20%20marker_0d88955cf6c343c2b399e2e3ea964811.bindPopup%28popup_497ef139168d467a9e75a15a72ba01b9%29%0A%20%20%20%20%20%20%20%20%3B%0A%0A%20%20%20%20%20%20%20%20%0A%20%20%20%20%0A%20%20%20%20%0A%20%20%20%20%20%20%20%20%20%20%20%20marker_0d88955cf6c343c2b399e2e3ea964811.bindTooltip%28%0A%20%20%20%20%20%20%20%20%20%20%20%20%20%20%20%20%60%3Cdiv%3E%0A%20%20%20%20%20%20%20%20%20%20%20%20%20%20%20%20%20%20%20%20%20NU%0A%20%20%20%20%20%20%20%20%20%20%20%20%20%20%20%20%20%3C/div%3E%60%2C%0A%20%20%20%20%20%20%20%20%20%20%20%20%20%20%20%20%7B%22sticky%22%3A%20true%7D%0A%20%20%20%20%20%20%20%20%20%20%20%20%29%3B%0A%20%20%20%20%20%20%20%20%0A%20%20%20%20%0A%20%20%20%20%20%20%20%20%20%20%20%20var%20marker_dfb8e87006be4299b9575e250f2396e4%20%3D%20L.marker%28%0A%20%20%20%20%20%20%20%20%20%20%20%20%20%20%20%20%5B64.04275%2C%20-116.565396%5D%2C%0A%20%20%20%20%20%20%20%20%20%20%20%20%20%20%20%20%7B%7D%0A%20%20%20%20%20%20%20%20%20%20%20%20%29.addTo%28map_a2f69c4dbef14dd1b2d4f732f467b2f0%29%3B%0A%20%20%20%20%20%20%20%20%0A%20%20%20%20%0A%20%20%20%20%20%20%20%20var%20popup_9b66f16d1dd44c0a960ada82c39bf144%20%3D%20L.popup%28%7B%22maxWidth%22%3A%20%22100%25%22%7D%29%3B%0A%0A%20%20%20%20%20%20%20%20%0A%20%20%20%20%20%20%20%20%20%20%20%20var%20html_03291d8df706424cb651c4d286531862%20%3D%20%24%28%60%3Cdiv%20id%3D%22html_03291d8df706424cb651c4d286531862%22%20style%3D%22width%3A%20100.0%25%3B%20height%3A%20100.0%25%3B%22%3E%3Ch4%3E%20%3Cb%3E%20Northern%20Territories%3C/h4%3E%20%3C/b%3E%5C%20Bills%20passed%3A%3C/div%3E%60%29%5B0%5D%3B%0A%20%20%20%20%20%20%20%20%20%20%20%20popup_9b66f16d1dd44c0a960ada82c39bf144.setContent%28html_03291d8df706424cb651c4d286531862%29%3B%0A%20%20%20%20%20%20%20%20%0A%0A%20%20%20%20%20%20%20%20marker_dfb8e87006be4299b9575e250f2396e4.bindPopup%28popup_9b66f16d1dd44c0a960ada82c39bf144%29%0A%20%20%20%20%20%20%20%20%3B%0A%0A%20%20%20%20%20%20%20%20%0A%20%20%20%20%0A%20%20%20%20%0A%20%20%20%20%20%20%20%20%20%20%20%20marker_dfb8e87006be4299b9575e250f2396e4.bindTooltip%28%0A%20%20%20%20%20%20%20%20%20%20%20%20%20%20%20%20%60%3Cdiv%3E%0A%20%20%20%20%20%20%20%20%20%20%20%20%20%20%20%20%20%20%20%20%20NT%0A%20%20%20%20%20%20%20%20%20%20%20%20%20%20%20%20%20%3C/div%3E%60%2C%0A%20%20%20%20%20%20%20%20%20%20%20%20%20%20%20%20%7B%22sticky%22%3A%20true%7D%0A%20%20%20%20%20%20%20%20%20%20%20%20%29%3B%0A%20%20%20%20%20%20%20%20%0A%3C/script%3E onload=\"this.contentDocument.open();this.contentDocument.write(    decodeURIComponent(this.getAttribute('data-html')));this.contentDocument.close();\" allowfullscreen webkitallowfullscreen mozallowfullscreen></iframe></div></div>"
      ],
      "text/plain": [
       "<folium.folium.Map at 0x7f37fa01fbb0>"
      ]
     },
     "execution_count": 167,
     "metadata": {},
     "output_type": "execute_result"
    }
   ],
   "source": [
    "import folium\n",
    "\n",
    "\n",
    "\n",
    "canada = folium.Map(\n",
    "                    location=[58.084167, -99.959314],\n",
    "                    zoom_start = 3\n",
    "                )\n",
    "\n",
    "folium.Marker(location=[53.5, -124.4], popup = \"<h4> <b> British Columbia</h4> </b>\\\\ Bills passed: \", tooltip = \"BC\").add_to(canada)\n",
    "folium.Marker(location=[55.436645, -114.177669],popup = \"<h4> <b> Alberta</h4> </b>\\\\ Bills passed:\" , tooltip = \"AB\").add_to(canada)\n",
    "folium.Marker(location=[55.149194, -105.988562],popup = \"<h4> <b> Saskatchewan</h4> </b>\\\\ Bills passed:\" , tooltip = \"SK\").add_to(canada)\n",
    "folium.Marker(location=[55.222793, -97.115573], popup = \"<h4> <b> Manitoba</h4> </b>\\\\ Bills passed:\" , tooltip= \"MB\").add_to(canada)\n",
    "folium.Marker(location=[51.008623, -86.090106], popup = \"<h4> <b> Ontario</h4> </b>\\\\ Bills passed:\" , tooltip= \"ON\").add_to(canada)\n",
    "folium.Marker(location=[52.069473, -71.427672], popup = \"<h4> <b> Quebec</h4> </b>\\\\ Bills passed:\" , tooltip= \"QB\").add_to(canada)\n",
    "folium.Marker(location=[53.400751, -60.730773], popup = \"<h4> <b> Newfoundland and Labrador</h4> </b>\\\\ Bills passed:\" , tooltip= \"NL\").add_to(canada)\n",
    "folium.Marker(location=[64.245580, -136.177762],popup = \"<h4> <b> Yukon</h4> </b>\\\\ Bills passed:\" , tooltip = \"YT\").add_to(canada)\n",
    "folium.Marker(location=[46.389358, -63.302173], popup = \"<h4> <b> Prince Edward</h4> </b>\\\\ Bills passed:\" , tooltip= \"PE\").add_to(canada)\n",
    "folium.Marker(location=[45.273052, -63.035154], popup = \"<h4> <b> Nova Scotia</h4> </b>\\\\ Bills passed:\" , tooltip= \"NS\").add_to(canada)\n",
    "folium.Marker(location=[46.648582, -66.396753], popup = \"<h4> <b> New Brunswick</h4> </b>\\\\ Bills passed:\" , tooltip= \"NB\").add_to(canada)\n",
    "folium.Marker(location=[66.372019, -94.719900], popup = \"<h4> <b> Nunavut</h4> </b>\\\\ Bills passed:\" , tooltip= \"NU\").add_to(canada)\n",
    "folium.Marker(location=[64.042750, -116.565396],popup = \"<h4> <b> Northern Territories</h4> </b>\\\\ Bills passed:\" , tooltip = \"NT\").add_to(canada)\n",
    "\n",
    "\n",
    "canada"
   ]
  },
  {
   "cell_type": "code",
   "execution_count": null,
   "metadata": {},
   "outputs": [],
   "source": []
  }
 ],
 "metadata": {
  "kernelspec": {
   "display_name": "Python 3 (ipykernel)",
   "language": "python",
   "name": "python3"
  },
  "language_info": {
   "codemirror_mode": {
    "name": "ipython",
    "version": 3
   },
   "file_extension": ".py",
   "mimetype": "text/x-python",
   "name": "python",
   "nbconvert_exporter": "python",
   "pygments_lexer": "ipython3",
   "version": "3.8.10"
  }
 },
 "nbformat": 4,
 "nbformat_minor": 4
}
