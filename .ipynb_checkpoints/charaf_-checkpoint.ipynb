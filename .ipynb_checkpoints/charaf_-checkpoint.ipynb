{
 "cells": [
  {
   "cell_type": "code",
   "execution_count": null,
   "metadata": {
    "_cell_guid": "b1076dfc-b9ad-4769-8c92-a6c4dae69d19",
    "_uuid": "8f2839f25d086af736a60e9eeb907d3b93b6e0e5"
   },
   "outputs": [],
   "source": [
    "!pip install dash"
   ]
  },
  {
   "cell_type": "markdown",
   "metadata": {},
   "source": [
    "# Imports"
   ]
  },
  {
   "cell_type": "code",
   "execution_count": 1,
   "metadata": {
    "execution": {
     "iopub.execute_input": "2021-11-13T23:53:33.041137Z",
     "iopub.status.busy": "2021-11-13T23:53:33.040898Z",
     "iopub.status.idle": "2021-11-13T23:53:33.828091Z",
     "shell.execute_reply": "2021-11-13T23:53:33.827406Z",
     "shell.execute_reply.started": "2021-11-13T23:53:33.041073Z"
    }
   },
   "outputs": [],
   "source": [
    "import numpy as np\n",
    "import pandas as pd\n",
    "\n",
    "import requests\n",
    "from matplotlib.pyplot import plot\n",
    "\n",
    "from dash import Dash, dcc, html, Input, Output  # pip install dash (version 2.0.0 or higher)\n",
    "\n",
    "import json\n",
    "import plotly.express as px\n",
    "import plotly.io as pio"
   ]
  },
  {
   "cell_type": "code",
   "execution_count": 2,
   "metadata": {
    "execution": {
     "iopub.execute_input": "2021-11-13T23:53:33.829755Z",
     "iopub.status.busy": "2021-11-13T23:53:33.829035Z",
     "iopub.status.idle": "2021-11-13T23:53:33.838180Z",
     "shell.execute_reply": "2021-11-13T23:53:33.837142Z",
     "shell.execute_reply.started": "2021-11-13T23:53:33.829721Z"
    }
   },
   "outputs": [],
   "source": [
    "import os\n",
    "for dirname, _, filenames in os.walk('/kaggle/input'):\n",
    "    for filename in filenames:\n",
    "        print(os.path.join(dirname, filename))"
   ]
  },
  {
   "cell_type": "code",
   "execution_count": 3,
   "metadata": {
    "execution": {
     "iopub.execute_input": "2021-11-13T23:53:33.840075Z",
     "iopub.status.busy": "2021-11-13T23:53:33.839853Z",
     "iopub.status.idle": "2021-11-13T23:53:33.849687Z",
     "shell.execute_reply": "2021-11-13T23:53:33.848857Z",
     "shell.execute_reply.started": "2021-11-13T23:53:33.840047Z"
    }
   },
   "outputs": [],
   "source": [
    "# pio.renderers.default = 'chrome'"
   ]
  },
  {
   "cell_type": "markdown",
   "metadata": {},
   "source": [
    "# Loading Data"
   ]
  },
  {
   "cell_type": "code",
   "execution_count": 4,
   "metadata": {
    "execution": {
     "iopub.execute_input": "2021-11-13T23:53:34.390328Z",
     "iopub.status.busy": "2021-11-13T23:53:34.389884Z",
     "iopub.status.idle": "2021-11-13T23:53:39.172726Z",
     "shell.execute_reply": "2021-11-13T23:53:39.171787Z",
     "shell.execute_reply.started": "2021-11-13T23:53:34.390269Z"
    }
   },
   "outputs": [],
   "source": [
    "url = \"https://goverlytics.p.rapidapi.com/federal-legislation/ca\"\n",
    "\n",
    "querystring = {\"include_summary\":\"true\",\n",
    "               \"include_text\":\"true\",\n",
    "               \"include_actions\":\"true\",\n",
    "               \"include_votes\":\"true\",\n",
    "               \"sponsor_gender\":\"M\",\n",
    "               \"limit\": 25\n",
    "              }\n",
    "\n",
    "headers = {\n",
    "    'x-rapidapi-host': \"goverlytics.p.rapidapi.com\",\n",
    "    'x-rapidapi-key': \"4d08b76ec0msh553b06f36bc2c52p18a08ejsne688f7dc5de5\"\n",
    "    }\n",
    "\n",
    "response = requests.request(\"GET\", url, headers=headers, params=querystring)\n",
    "\n",
    "# print(response.text)"
   ]
  },
  {
   "cell_type": "code",
   "execution_count": 5,
   "metadata": {
    "execution": {
     "iopub.execute_input": "2021-11-13T23:53:39.174850Z",
     "iopub.status.busy": "2021-11-13T23:53:39.174627Z",
     "iopub.status.idle": "2021-11-13T23:53:39.188170Z",
     "shell.execute_reply": "2021-11-13T23:53:39.187646Z",
     "shell.execute_reply.started": "2021-11-13T23:53:39.174824Z"
    }
   },
   "outputs": [],
   "source": [
    "df = pd.DataFrame(response.json()[\"data\"])\n",
    "print(df.shape)"
   ]
  },
  {
   "cell_type": "markdown",
   "metadata": {},
   "source": [
    "* list of provinces and territories"
   ]
  },
  {
   "cell_type": "code",
   "execution_count": 6,
   "metadata": {
    "execution": {
     "iopub.execute_input": "2021-11-13T23:53:39.189690Z",
     "iopub.status.busy": "2021-11-13T23:53:39.189015Z",
     "iopub.status.idle": "2021-11-13T23:53:39.197357Z",
     "shell.execute_reply": "2021-11-13T23:53:39.196517Z",
     "shell.execute_reply.started": "2021-11-13T23:53:39.189641Z"
    }
   },
   "outputs": [],
   "source": [
    "list_provinces = ['AB', 'BC', 'MB', 'NB', 'NL', 'NT', 'NS', 'NU', 'ON', 'PE', 'QC', 'SK', 'YT', None]\n",
    "\n",
    "name_provinces = [\"Alberta\", \"British Columbia\", \"Manitoba\", \"New Brunswick\", \"Newfoundland and Labrador\",\n",
    "                  \"Northwest Territories\", \"Nova Scotia\", \"Nunavut\", \"Ontario\", \"Prince Edward Island\",\n",
    "                  \"Quebec\", \"Saskatchewan\", \"Yukon\", None]"
   ]
  },
  {
   "cell_type": "code",
   "execution_count": 7,
   "metadata": {
    "execution": {
     "iopub.execute_input": "2021-11-13T23:53:39.200635Z",
     "iopub.status.busy": "2021-11-13T23:53:39.200052Z",
     "iopub.status.idle": "2021-11-13T23:53:39.210374Z",
     "shell.execute_reply": "2021-11-13T23:53:39.209478Z",
     "shell.execute_reply.started": "2021-11-13T23:53:39.200591Z"
    }
   },
   "outputs": [],
   "source": [
    "# Passed bills per province\n",
    "passed_bills_pr = dict((el,0) for el in list_provinces)\n",
    "for index, row in df.iterrows():\n",
    "    if row['last_major_event']['status'] == 'Royal Assent':\n",
    "        passed_bills_pr[row['province_territory']] += 1"
   ]
  },
  {
   "cell_type": "markdown",
   "metadata": {},
   "source": [
    "# Passed bills per province"
   ]
  },
  {
   "cell_type": "code",
   "execution_count": 8,
   "metadata": {
    "execution": {
     "iopub.execute_input": "2021-11-13T23:53:39.213253Z",
     "iopub.status.busy": "2021-11-13T23:53:39.212673Z",
     "iopub.status.idle": "2021-11-13T23:53:39.240458Z",
     "shell.execute_reply": "2021-11-13T23:53:39.239657Z",
     "shell.execute_reply.started": "2021-11-13T23:53:39.213210Z"
    }
   },
   "outputs": [],
   "source": [
    "new_df = df[['province_territory', 'last_major_event', 'topic']].copy()\n",
    "new_df['last_status'] = 0\n",
    "new_df['final_year'] = 0\n",
    "\n",
    "for index, row in new_df.iterrows():\n",
    "    new_df.loc[index, 'last_status'] = row['last_major_event']['status']\n",
    "    # new_df.at[index,'last_status'] = row['last_major_event']['status']\n",
    "    new_df.loc[index, 'final_year'] = row['last_major_event']['date'].split('-')[0]\n",
    "\n",
    "new_df = new_df.drop('last_major_event', axis=1)"
   ]
  },
  {
   "cell_type": "code",
   "execution_count": 9,
   "metadata": {
    "execution": {
     "iopub.execute_input": "2021-11-13T23:53:39.243188Z",
     "iopub.status.busy": "2021-11-13T23:53:39.242358Z",
     "iopub.status.idle": "2021-11-13T23:53:39.264999Z",
     "shell.execute_reply": "2021-11-13T23:53:39.264368Z",
     "shell.execute_reply.started": "2021-11-13T23:53:39.243152Z"
    }
   },
   "outputs": [],
   "source": [
    "passed_bills_df = pd.DataFrame(data={\"name\": name_provinces, \"pr_ter\": list_provinces})\n",
    "\n",
    "passed_bills_df[\"topic\"] = None\n",
    "passed_bills_df[\"2019\"] = 0\n",
    "passed_bills_df[\"2020\"] = 0\n",
    "passed_bills_df[\"2021\"] = 0\n",
    "\n",
    "\n",
    "passed_bills_df = passed_bills_df.set_index('pr_ter')\n",
    "\n",
    "for index, row in new_df.iterrows():\n",
    "    if row['last_status'] == 'Royal Assent':\n",
    "        year = row['final_year']\n",
    "        province = row['province_territory']\n",
    "        passed_bills_df.loc[row['province_territory'], row['final_year']] += 1\n",
    "    \n",
    "    passed_bills_df.loc[row['province_territory'], \"topic\"] = row['topic']\n",
    "        \n",
    "\n",
    "passed_bills_df = passed_bills_df.reset_index()\n",
    "passed_bills_df['total'] = passed_bills_df[['2019', '2020', '2021']].sum(axis=1)"
   ]
  },
  {
   "cell_type": "markdown",
   "metadata": {},
   "source": [
    "# Choropleth"
   ]
  },
  {
   "cell_type": "code",
   "execution_count": 10,
   "metadata": {
    "execution": {
     "iopub.execute_input": "2021-11-13T23:53:39.266772Z",
     "iopub.status.busy": "2021-11-13T23:53:39.266274Z",
     "iopub.status.idle": "2021-11-13T23:53:39.299003Z",
     "shell.execute_reply": "2021-11-13T23:53:39.298167Z",
     "shell.execute_reply.started": "2021-11-13T23:53:39.266740Z"
    }
   },
   "outputs": [],
   "source": [
    "canada_province = json.load(open(\"../input/canada-provinces/canada_provinces.geojson\", \"r\"))\n",
    "\n",
    "province_id_map = {}\n",
    "for feature in canada_province[\"features\"]:\n",
    "    feature['id'] = feature['properties']['cartodb_id']\n",
    "    province_id_map[feature['properties']['name']] = feature['id']\n",
    "\n",
    "province_id_map[None] = None\n",
    "\n",
    "print(province_id_map)\n",
    "\n",
    "passed_bills_df['id'] = passed_bills_df['name'].apply(lambda x: province_id_map[x])\n",
    "\n",
    "passed_bills_df.head()"
   ]
  },
  {
   "cell_type": "code",
   "execution_count": 11,
   "metadata": {
    "execution": {
     "iopub.execute_input": "2021-11-13T23:53:39.300547Z",
     "iopub.status.busy": "2021-11-13T23:53:39.300277Z",
     "iopub.status.idle": "2021-11-13T23:53:39.892935Z",
     "shell.execute_reply": "2021-11-13T23:53:39.891993Z",
     "shell.execute_reply.started": "2021-11-13T23:53:39.300519Z"
    }
   },
   "outputs": [],
   "source": [
    "fig = px.choropleth(passed_bills_df,\n",
    "                    locations='id',\n",
    "                    geojson=canada_province,\n",
    "                    color='total',\n",
    "                    )\n",
    "\n",
    "fig.show()"
   ]
  },
  {
   "cell_type": "markdown",
   "metadata": {},
   "source": [
    "# Dash\n",
    "* App layout"
   ]
  },
  {
   "cell_type": "code",
   "execution_count": 12,
   "metadata": {
    "execution": {
     "iopub.execute_input": "2021-11-13T23:53:39.894541Z",
     "iopub.status.busy": "2021-11-13T23:53:39.894283Z",
     "iopub.status.idle": "2021-11-13T23:53:39.907580Z",
     "shell.execute_reply": "2021-11-13T23:53:39.906694Z",
     "shell.execute_reply.started": "2021-11-13T23:53:39.894509Z"
    }
   },
   "outputs": [],
   "source": [
    "app = Dash(__name__)"
   ]
  },
  {
   "cell_type": "code",
   "execution_count": 13,
   "metadata": {
    "execution": {
     "iopub.execute_input": "2021-11-13T23:53:39.910722Z",
     "iopub.status.busy": "2021-11-13T23:53:39.910161Z",
     "iopub.status.idle": "2021-11-13T23:53:39.919251Z",
     "shell.execute_reply": "2021-11-13T23:53:39.918283Z",
     "shell.execute_reply.started": "2021-11-13T23:53:39.910679Z"
    }
   },
   "outputs": [],
   "source": [
    "app.layout = html.Div([\n",
    "\n",
    "    html.H1(\"Web Application Dashboards with Dash\", style={'text-align': 'center'}),\n",
    "\n",
    "    dcc.Dropdown(id=\"slct_year\",\n",
    "                 options=[\n",
    "                     {\"label\": \"2019\", \"value\": 2019},\n",
    "                     {\"label\": \"2020\", \"value\": 2020},\n",
    "                     {\"label\": \"2021\", \"value\": 2021}],\n",
    "                 multi=False,\n",
    "                 value=2019,\n",
    "                 style={'width': \"40%\"}\n",
    "                 ),\n",
    "\n",
    "    html.Div(id='output_container', children=[]),\n",
    "    html.Br(),\n",
    "\n",
    "    dcc.Graph(id='my_canada_map', figure={})\n",
    "\n",
    "])"
   ]
  },
  {
   "cell_type": "markdown",
   "metadata": {},
   "source": [
    "* Connect the Plotly graphs with Dash Components"
   ]
  },
  {
   "cell_type": "code",
   "execution_count": 14,
   "metadata": {
    "execution": {
     "iopub.execute_input": "2021-11-13T23:53:39.920926Z",
     "iopub.status.busy": "2021-11-13T23:53:39.920412Z",
     "iopub.status.idle": "2021-11-13T23:53:41.295762Z",
     "shell.execute_reply": "2021-11-13T23:53:41.294519Z",
     "shell.execute_reply.started": "2021-11-13T23:53:39.920891Z"
    }
   },
   "outputs": [],
   "source": [
    "@app.callback(\n",
    "    [Output(component_id='output_container', component_property='children'),\n",
    "     Output(component_id='my_canada_map', component_property='figure')],\n",
    "    [Input(component_id='slct_year', component_property='value')]\n",
    ")\n",
    "def update_graph(option_slctd):\n",
    "    print(option_slctd)\n",
    "    print(type(option_slctd))\n",
    "\n",
    "    container = \"The year chosen by user was: {}\".format(option_slctd)\n",
    "\n",
    "    fig = draw_map(option_slctd)\n",
    "\n",
    "    return container, fig\n",
    "\n",
    "if __name__ == '__main__':\n",
    "    app.run_server(debug=True)"
   ]
  },
  {
   "cell_type": "code",
   "execution_count": null,
   "metadata": {},
   "outputs": [],
   "source": []
  },
  {
   "cell_type": "code",
   "execution_count": null,
   "metadata": {},
   "outputs": [],
   "source": []
  }
 ],
 "metadata": {
  "kernelspec": {
   "display_name": "Python 3 (ipykernel)",
   "language": "python",
   "name": "python3"
  },
  "language_info": {
   "codemirror_mode": {
    "name": "ipython",
    "version": 3
   },
   "file_extension": ".py",
   "mimetype": "text/x-python",
   "name": "python",
   "nbconvert_exporter": "python",
   "pygments_lexer": "ipython3",
   "version": "3.8.10"
  }
 },
 "nbformat": 4,
 "nbformat_minor": 4
}
